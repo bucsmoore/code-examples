{
 "cells": [
  {
   "attachments": {},
   "cell_type": "markdown",
   "metadata": {},
   "source": [
    "# Chapter 1: Notebook"
   ]
  },
  {
   "cell_type": "code",
   "execution_count": 2,
   "metadata": {},
   "outputs": [
    {
     "name": "stdout",
     "output_type": "stream",
     "text": [
      "hello world\n",
      "goodbye world\n",
      "1 2 a\n"
     ]
    }
   ],
   "source": [
    "print(\"hello world\")\n",
    "print(\"goodbye world\")\n",
    "print(1, 2, \"a\")"
   ]
  },
  {
   "attachments": {},
   "cell_type": "markdown",
   "metadata": {},
   "source": [
    "**Data**\n",
    "**Algorithms**\n",
    "\n",
    "all data is 1's and 0's\n",
    "\n",
    "Data changes\n",
    "Algorithms don't"
   ]
  },
  {
   "attachments": {},
   "cell_type": "markdown",
   "metadata": {},
   "source": [
    "## RULE #1: Separate things that change from things that stay the same."
   ]
  },
  {
   "cell_type": "code",
   "execution_count": 3,
   "metadata": {},
   "outputs": [
    {
     "name": "stdout",
     "output_type": "stream",
     "text": [
      "1 2 3 hi\n"
     ]
    }
   ],
   "source": [
    "print(1,2,3, \"hi\")"
   ]
  },
  {
   "attachments": {},
   "cell_type": "markdown",
   "metadata": {},
   "source": [
    "**Function** is an algorithm with results"
   ]
  },
  {
   "attachments": {},
   "cell_type": "markdown",
   "metadata": {},
   "source": [
    "Built-in functions\n",
    " - can use automatically"
   ]
  },
  {
   "cell_type": "code",
   "execution_count": 4,
   "metadata": {},
   "outputs": [
    {
     "name": "stdout",
     "output_type": "stream",
     "text": [
      "1\n"
     ]
    }
   ],
   "source": [
    "print( abs(-1) )"
   ]
  },
  {
   "cell_type": "code",
   "execution_count": 7,
   "metadata": {},
   "outputs": [
    {
     "name": "stdout",
     "output_type": "stream",
     "text": [
      "2\n",
      "11\n",
      "49\n"
     ]
    }
   ],
   "source": [
    "print(1+1)\n",
    "#print(1.0)\n",
    "print(\"1\"+\"1\")\n",
    "\n",
    "print( ord(\"1\") )"
   ]
  },
  {
   "cell_type": "code",
   "execution_count": 16,
   "metadata": {},
   "outputs": [
    {
     "name": "stdout",
     "output_type": "stream",
     "text": [
      "Hello World 5\n",
      "=====\n"
     ]
    }
   ],
   "source": [
    "\"A String\" # we call text a string\n",
    "'also a string' # we can also use single quotes\n",
    "\n",
    "\"Bruce's Beard\"\n",
    "\n",
    "\"\"\"\n",
    "summary\n",
    "\n",
    "extended_summary\n",
    "\"\"\"\n",
    "\n",
    "'''\n",
    "another format string option\n",
    "'''\n",
    "\n",
    "\"Hello\"\n",
    "\n",
    "print(\"Hello World \" + str(5)) #cast to a string\n",
    "\n",
    "\n",
    "print(\"=\"*5)"
   ]
  },
  {
   "cell_type": "code",
   "execution_count": 17,
   "metadata": {},
   "outputs": [
    {
     "ename": "TypeError",
     "evalue": "can't multiply sequence by non-int of type 'str'",
     "output_type": "error",
     "traceback": [
      "\u001b[0;31m---------------------------------------------------------------------------\u001b[0m",
      "\u001b[0;31mTypeError\u001b[0m                                 Traceback (most recent call last)",
      "Cell \u001b[0;32mIn[17], line 1\u001b[0m\n\u001b[0;32m----> 1\u001b[0m \u001b[39mprint\u001b[39m(\u001b[39m\"\u001b[39;49m\u001b[39m=\u001b[39;49m\u001b[39m\"\u001b[39;49m\u001b[39m*\u001b[39;49m\u001b[39m\"\u001b[39;49m\u001b[39m5\u001b[39;49m\u001b[39m\"\u001b[39;49m)\n",
      "\u001b[0;31mTypeError\u001b[0m: can't multiply sequence by non-int of type 'str'"
     ]
    }
   ],
   "source": [
    "print(\"=\"*\"5\")"
   ]
  },
  {
   "cell_type": "code",
   "execution_count": 19,
   "metadata": {},
   "outputs": [
    {
     "name": "stdout",
     "output_type": "stream",
     "text": [
      "<=====>\n"
     ]
    }
   ],
   "source": [
    "print(\"<\"+(\"=\"*5)+\">\")"
   ]
  },
  {
   "attachments": {},
   "cell_type": "markdown",
   "metadata": {},
   "source": [
    "## Str type - Text"
   ]
  },
  {
   "attachments": {},
   "cell_type": "markdown",
   "metadata": {},
   "source": [
    "# int type - Numbers\n",
    "# float type - Numbers with decimals"
   ]
  },
  {
   "attachments": {},
   "cell_type": "markdown",
   "metadata": {},
   "source": [
    "int: -1, 0, 1\n",
    "float: -1.0, 0, 1.0"
   ]
  },
  {
   "cell_type": "code",
   "execution_count": 27,
   "metadata": {},
   "outputs": [
    {
     "name": "stdout",
     "output_type": "stream",
     "text": [
      "5\n",
      "1\n",
      "5\n",
      "0\n",
      "0\n",
      "1\n",
      "2\n"
     ]
    }
   ],
   "source": [
    "# print(5+6)\n",
    "# print(5-6)\n",
    "# print(5*6)\n",
    "# print(5**6)\n",
    "# print(5/6) # division always results in a float\n",
    "# print(5//6) # integer division\n",
    "\n",
    "print(5%6)\n",
    "print(6%5)\n",
    "print(5%10)\n",
    "print(10%5)\n",
    "print(8%4)\n",
    "print(9%4)\n",
    "print(10%4)"
   ]
  }
 ],
 "metadata": {
  "kernelspec": {
   "display_name": "Python 3",
   "language": "python",
   "name": "python3"
  },
  "language_info": {
   "codemirror_mode": {
    "name": "ipython",
    "version": 3
   },
   "file_extension": ".py",
   "mimetype": "text/x-python",
   "name": "python",
   "nbconvert_exporter": "python",
   "pygments_lexer": "ipython3",
   "version": "3.10.6"
  },
  "orig_nbformat": 4,
  "vscode": {
   "interpreter": {
    "hash": "22b49e082a6af4654917cc1c24605484f8cbe21704d727f715075b4781281d96"
   }
  }
 },
 "nbformat": 4,
 "nbformat_minor": 2
}
